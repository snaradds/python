{
 "cells": [
  {
   "cell_type": "markdown",
   "id": "77516cf0-3df6-4575-8119-fd14f4936719",
   "metadata": {},
   "source": [
    "# Tuple Data Structure"
   ]
  },
  {
   "cell_type": "raw",
   "id": "19750691-d3bf-46d7-a874-073342834e39",
   "metadata": {},
   "source": [
    "It is written as paranthesis ( )\n",
    "It is immutable/unchangable"
   ]
  },
  {
   "cell_type": "code",
   "execution_count": 7,
   "id": "fe4450c5-96a7-4823-b898-32d7c77221b1",
   "metadata": {},
   "outputs": [],
   "source": [
    "t = (1,2,3,4,5,6)"
   ]
  },
  {
   "cell_type": "code",
   "execution_count": 9,
   "id": "cbdd2a41-04bc-4c02-918e-b3df7d509091",
   "metadata": {},
   "outputs": [
    {
     "data": {
      "text/plain": [
       "(1, 2, 3, 4, 5, 6)"
      ]
     },
     "execution_count": 9,
     "metadata": {},
     "output_type": "execute_result"
    }
   ],
   "source": [
    "t"
   ]
  },
  {
   "cell_type": "code",
   "execution_count": 11,
   "id": "463fa836-5d5e-475a-9a10-30422c9b099a",
   "metadata": {},
   "outputs": [
    {
     "data": {
      "text/plain": [
       "tuple"
      ]
     },
     "execution_count": 11,
     "metadata": {},
     "output_type": "execute_result"
    }
   ],
   "source": [
    "type(t)"
   ]
  },
  {
   "cell_type": "code",
   "execution_count": 13,
   "id": "743f04a7-40a0-475f-8c9b-70c0126a75f1",
   "metadata": {},
   "outputs": [
    {
     "data": {
      "text/plain": [
       "1"
      ]
     },
     "execution_count": 13,
     "metadata": {},
     "output_type": "execute_result"
    }
   ],
   "source": [
    "t[0]"
   ]
  },
  {
   "cell_type": "code",
   "execution_count": 15,
   "id": "d566e4fb-4a94-4fdd-a223-bf4dd769fd31",
   "metadata": {},
   "outputs": [
    {
     "data": {
      "text/plain": [
       "3"
      ]
     },
     "execution_count": 15,
     "metadata": {},
     "output_type": "execute_result"
    }
   ],
   "source": [
    "t[2]"
   ]
  },
  {
   "cell_type": "code",
   "execution_count": 17,
   "id": "ab2bf5c8-9eff-47ab-b394-df05509a404c",
   "metadata": {},
   "outputs": [
    {
     "data": {
      "text/plain": [
       "6"
      ]
     },
     "execution_count": 17,
     "metadata": {},
     "output_type": "execute_result"
    }
   ],
   "source": [
    "t[-1]"
   ]
  },
  {
   "cell_type": "code",
   "execution_count": 19,
   "id": "595bcf04-7c58-40ee-a8d0-206e172dcb95",
   "metadata": {},
   "outputs": [
    {
     "ename": "TypeError",
     "evalue": "'tuple' object does not support item assignment",
     "output_type": "error",
     "traceback": [
      "\u001b[1;31m---------------------------------------------------------------------------\u001b[0m",
      "\u001b[1;31mTypeError\u001b[0m                                 Traceback (most recent call last)",
      "Cell \u001b[1;32mIn[19], line 1\u001b[0m\n\u001b[1;32m----> 1\u001b[0m t[\u001b[38;5;241m1\u001b[39m] \u001b[38;5;241m=\u001b[39m \u001b[38;5;241m10\u001b[39m\n",
      "\u001b[1;31mTypeError\u001b[0m: 'tuple' object does not support item assignment"
     ]
    }
   ],
   "source": [
    "t[1] = 10  #as tuple is unchangable"
   ]
  },
  {
   "cell_type": "code",
   "execution_count": null,
   "id": "f2251be8-f388-418c-ad8e-5b918b7caf99",
   "metadata": {},
   "outputs": [],
   "source": []
  },
  {
   "cell_type": "code",
   "execution_count": 21,
   "id": "6e04216a-7764-4dcc-a15d-1d352b4d30e1",
   "metadata": {},
   "outputs": [],
   "source": [
    "# convert list to tuple"
   ]
  },
  {
   "cell_type": "code",
   "execution_count": 23,
   "id": "85d9dfe5-64dd-4b5e-a8b4-309f3be5a847",
   "metadata": {},
   "outputs": [],
   "source": [
    "f = [1,2,4,6,9]"
   ]
  },
  {
   "cell_type": "code",
   "execution_count": 25,
   "id": "342eeb9f-959f-4768-b017-40a9267f0707",
   "metadata": {},
   "outputs": [
    {
     "data": {
      "text/plain": [
       "(1, 2, 4, 6, 9)"
      ]
     },
     "execution_count": 25,
     "metadata": {},
     "output_type": "execute_result"
    }
   ],
   "source": [
    "tuple(f)"
   ]
  },
  {
   "cell_type": "code",
   "execution_count": 27,
   "id": "e3a56b09-9b84-4344-b6f2-1b770ec9a173",
   "metadata": {},
   "outputs": [],
   "source": [
    "f1 = tuple(f)"
   ]
  },
  {
   "cell_type": "code",
   "execution_count": 29,
   "id": "247c8d94-4a2f-41c7-9880-358c8a38b3c4",
   "metadata": {},
   "outputs": [
    {
     "data": {
      "text/plain": [
       "(1, 2, 4, 6, 9)"
      ]
     },
     "execution_count": 29,
     "metadata": {},
     "output_type": "execute_result"
    }
   ],
   "source": [
    "f1"
   ]
  },
  {
   "cell_type": "code",
   "execution_count": null,
   "id": "08b11030-5add-4ce0-879b-b3a3037b5ec8",
   "metadata": {},
   "outputs": [],
   "source": []
  },
  {
   "cell_type": "code",
   "execution_count": 31,
   "id": "83765cbc-d45b-4d2a-b02b-1a67639007c7",
   "metadata": {},
   "outputs": [],
   "source": [
    "# convert tuple to list"
   ]
  },
  {
   "cell_type": "code",
   "execution_count": 33,
   "id": "24d1ec87-5144-40c5-9bb4-43e1943b0989",
   "metadata": {},
   "outputs": [],
   "source": [
    "g = ( 1, 2, 'sam', 5)"
   ]
  },
  {
   "cell_type": "code",
   "execution_count": 41,
   "id": "a88c1393-b8d0-4ef0-8c82-e2b2cefd3cde",
   "metadata": {},
   "outputs": [
    {
     "data": {
      "text/plain": [
       "[1, 2, 'sam', 5]"
      ]
     },
     "execution_count": 41,
     "metadata": {},
     "output_type": "execute_result"
    }
   ],
   "source": [
    "list(g)"
   ]
  },
  {
   "cell_type": "code",
   "execution_count": 43,
   "id": "0cf0880b-7fd5-4400-95f5-b0c02130afe1",
   "metadata": {},
   "outputs": [],
   "source": [
    "g1 = list(g)"
   ]
  },
  {
   "cell_type": "code",
   "execution_count": 45,
   "id": "2a58abe8-26d0-46c3-afc5-6b9825cb2435",
   "metadata": {},
   "outputs": [
    {
     "data": {
      "text/plain": [
       "[1, 2, 'sam', 5]"
      ]
     },
     "execution_count": 45,
     "metadata": {},
     "output_type": "execute_result"
    }
   ],
   "source": [
    "g1"
   ]
  },
  {
   "cell_type": "code",
   "execution_count": null,
   "id": "83952915-ffd7-4cf2-abaf-a76568c24e3d",
   "metadata": {},
   "outputs": [],
   "source": []
  },
  {
   "cell_type": "markdown",
   "id": "831e8ec4-4806-487f-8925-b07eec937ced",
   "metadata": {},
   "source": [
    "# Set Data Structure"
   ]
  },
  {
   "cell_type": "raw",
   "id": "64b7e22c-b9a1-4f54-9e67-c2d3b14ff8bb",
   "metadata": {},
   "source": [
    "Written in curly bracket {}\n",
    "Doesn't allow duplicate values"
   ]
  },
  {
   "cell_type": "code",
   "execution_count": 50,
   "id": "0195a992-b1db-4a78-9aaa-5c7e804ec601",
   "metadata": {},
   "outputs": [],
   "source": [
    "s = {1,2,3,4,5}"
   ]
  },
  {
   "cell_type": "code",
   "execution_count": 52,
   "id": "42de6e29-c8d5-4887-8a69-742cdc292358",
   "metadata": {},
   "outputs": [
    {
     "data": {
      "text/plain": [
       "set"
      ]
     },
     "execution_count": 52,
     "metadata": {},
     "output_type": "execute_result"
    }
   ],
   "source": [
    "type(s)"
   ]
  },
  {
   "cell_type": "code",
   "execution_count": 54,
   "id": "9b2b4619-b44b-41f7-abd0-504f9775f9e7",
   "metadata": {},
   "outputs": [],
   "source": [
    "r = {1,1,1,2,2,2,3,3,4,5}"
   ]
  },
  {
   "cell_type": "code",
   "execution_count": 56,
   "id": "b0df8284-d28d-4364-aed4-7feb8c187bba",
   "metadata": {},
   "outputs": [
    {
     "data": {
      "text/plain": [
       "{1, 2, 3, 4, 5}"
      ]
     },
     "execution_count": 56,
     "metadata": {},
     "output_type": "execute_result"
    }
   ],
   "source": [
    "r"
   ]
  },
  {
   "cell_type": "code",
   "execution_count": null,
   "id": "e531d423-ce8b-414e-a394-53ac74a057c3",
   "metadata": {},
   "outputs": [],
   "source": []
  },
  {
   "cell_type": "code",
   "execution_count": 58,
   "id": "a29705d3-0bae-4792-9ffc-92ff7ef890d9",
   "metadata": {},
   "outputs": [],
   "source": [
    "# union operation"
   ]
  },
  {
   "cell_type": "code",
   "execution_count": 60,
   "id": "28ce9c6d-b425-428b-ade3-ed880ec614f2",
   "metadata": {},
   "outputs": [],
   "source": [
    "a = {1,3,4,5,6}"
   ]
  },
  {
   "cell_type": "code",
   "execution_count": 62,
   "id": "498f1718-c05f-4758-b3c5-80c41cf84228",
   "metadata": {},
   "outputs": [],
   "source": [
    "b = {2,3,5,7,8}"
   ]
  },
  {
   "cell_type": "code",
   "execution_count": 64,
   "id": "227b651f-76a1-4ab6-8b74-aad7f68ce621",
   "metadata": {},
   "outputs": [
    {
     "data": {
      "text/plain": [
       "{1, 2, 3, 4, 5, 6, 7, 8}"
      ]
     },
     "execution_count": 64,
     "metadata": {},
     "output_type": "execute_result"
    }
   ],
   "source": [
    "a.union(b)"
   ]
  },
  {
   "cell_type": "code",
   "execution_count": null,
   "id": "5a9febad-ee47-44f2-be39-d007bd578145",
   "metadata": {},
   "outputs": [],
   "source": []
  },
  {
   "cell_type": "code",
   "execution_count": 66,
   "id": "43d06148-9a2a-4257-a926-36e64c45d98e",
   "metadata": {},
   "outputs": [],
   "source": [
    "# intersection operation"
   ]
  },
  {
   "cell_type": "code",
   "execution_count": 70,
   "id": "e403512c-4d65-45f4-8356-0675660e106f",
   "metadata": {},
   "outputs": [
    {
     "data": {
      "text/plain": [
       "{3, 5}"
      ]
     },
     "execution_count": 70,
     "metadata": {},
     "output_type": "execute_result"
    }
   ],
   "source": [
    "a.intersection(b)"
   ]
  },
  {
   "cell_type": "code",
   "execution_count": null,
   "id": "ac4dad1a-6572-4d8a-8bef-4429e681caa9",
   "metadata": {},
   "outputs": [],
   "source": []
  }
 ],
 "metadata": {
  "kernelspec": {
   "display_name": "Python [conda env:base] *",
   "language": "python",
   "name": "conda-base-py"
  },
  "language_info": {
   "codemirror_mode": {
    "name": "ipython",
    "version": 3
   },
   "file_extension": ".py",
   "mimetype": "text/x-python",
   "name": "python",
   "nbconvert_exporter": "python",
   "pygments_lexer": "ipython3",
   "version": "3.12.7"
  }
 },
 "nbformat": 4,
 "nbformat_minor": 5
}
