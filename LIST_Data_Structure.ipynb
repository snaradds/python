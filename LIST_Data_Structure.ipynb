{
 "cells": [
  {
   "cell_type": "markdown",
   "id": "4a8aeb54-f5b4-4bd0-a069-476643d5d56d",
   "metadata": {},
   "source": [
    "# List Data Structure"
   ]
  },
  {
   "cell_type": "markdown",
   "id": "b0dfe223-f989-404f-9632-8b39a22785ac",
   "metadata": {},
   "source": [
    "List is written in square bracket"
   ]
  },
  {
   "cell_type": "code",
   "execution_count": 3,
   "id": "e1e8dc53-f112-4ff0-816d-3e012ea4d43d",
   "metadata": {},
   "outputs": [],
   "source": [
    "a = [12,34,65,76]"
   ]
  },
  {
   "cell_type": "code",
   "execution_count": 5,
   "id": "abf579a9-195a-4d41-8677-d978ab6c6bf8",
   "metadata": {},
   "outputs": [
    {
     "data": {
      "text/plain": [
       "[12, 34, 65, 76]"
      ]
     },
     "execution_count": 5,
     "metadata": {},
     "output_type": "execute_result"
    }
   ],
   "source": [
    "a"
   ]
  },
  {
   "cell_type": "code",
   "execution_count": 7,
   "id": "8554d97c-f964-4f43-90c6-22574fc32e3a",
   "metadata": {},
   "outputs": [
    {
     "data": {
      "text/plain": [
       "list"
      ]
     },
     "execution_count": 7,
     "metadata": {},
     "output_type": "execute_result"
    }
   ],
   "source": [
    "type (a)"
   ]
  },
  {
   "cell_type": "code",
   "execution_count": 13,
   "id": "79d2d2b7-1a7a-435e-b27d-170734ae4cbb",
   "metadata": {},
   "outputs": [],
   "source": [
    "mix = [12, 15.8, 10+5j, 'red', True]"
   ]
  },
  {
   "cell_type": "code",
   "execution_count": 15,
   "id": "b575b448-3ef9-440f-b27c-6be06f623d5a",
   "metadata": {},
   "outputs": [
    {
     "data": {
      "text/plain": [
       "[12, 15.8, (10+5j), 'red', True]"
      ]
     },
     "execution_count": 15,
     "metadata": {},
     "output_type": "execute_result"
    }
   ],
   "source": [
    "mix"
   ]
  },
  {
   "cell_type": "code",
   "execution_count": 40,
   "id": "33221d40-0554-4548-be29-a4f5f74131dd",
   "metadata": {},
   "outputs": [],
   "source": [
    "names = ['x', 'yz', 'hah', 'we', 'das']"
   ]
  },
  {
   "cell_type": "code",
   "execution_count": 42,
   "id": "20bb0aaa-9a27-4d64-9c6a-404f535fbff2",
   "metadata": {},
   "outputs": [
    {
     "data": {
      "text/plain": [
       "['x', 'yz', 'hah', 'we', 'das']"
      ]
     },
     "execution_count": 42,
     "metadata": {},
     "output_type": "execute_result"
    }
   ],
   "source": [
    "names"
   ]
  },
  {
   "cell_type": "code",
   "execution_count": null,
   "id": "1177f04c-45cd-4f12-9abe-c856b4e0e629",
   "metadata": {},
   "outputs": [],
   "source": []
  },
  {
   "cell_type": "code",
   "execution_count": null,
   "id": "13573c87-395b-447a-bddf-b55eb9fa93b4",
   "metadata": {},
   "outputs": [],
   "source": [
    "# lenght Function"
   ]
  },
  {
   "cell_type": "markdown",
   "id": "7ea28c6e-890c-44b8-8e89-6544f9822b4e",
   "metadata": {},
   "source": [
    "Number of Data in list"
   ]
  },
  {
   "cell_type": "code",
   "execution_count": 46,
   "id": "e1888aa1-4681-40cb-b3af-d240165cd8cf",
   "metadata": {},
   "outputs": [
    {
     "data": {
      "text/plain": [
       "5"
      ]
     },
     "execution_count": 46,
     "metadata": {},
     "output_type": "execute_result"
    }
   ],
   "source": [
    "len(names)"
   ]
  },
  {
   "cell_type": "code",
   "execution_count": 48,
   "id": "cdb7f499-d121-47c3-9b4b-dc5e3254b57b",
   "metadata": {},
   "outputs": [
    {
     "data": {
      "text/plain": [
       "5"
      ]
     },
     "execution_count": 48,
     "metadata": {},
     "output_type": "execute_result"
    }
   ],
   "source": [
    "len(mix)"
   ]
  },
  {
   "cell_type": "code",
   "execution_count": 50,
   "id": "cedf5ce1-9c9f-4717-8fc4-298b6b95c05b",
   "metadata": {},
   "outputs": [
    {
     "data": {
      "text/plain": [
       "4"
      ]
     },
     "execution_count": 50,
     "metadata": {},
     "output_type": "execute_result"
    }
   ],
   "source": [
    "len(a)"
   ]
  },
  {
   "cell_type": "code",
   "execution_count": null,
   "id": "e3a33735-e206-4c2d-ab15-db2324681a79",
   "metadata": {},
   "outputs": [],
   "source": []
  },
  {
   "cell_type": "code",
   "execution_count": null,
   "id": "6030c3a5-6af5-4eec-a311-d3f439d4fa3f",
   "metadata": {},
   "outputs": [],
   "source": [
    "# Indexing"
   ]
  },
  {
   "cell_type": "code",
   "execution_count": 53,
   "id": "76758e9a-2bd4-4d1f-9302-5a276dd7030d",
   "metadata": {},
   "outputs": [
    {
     "data": {
      "text/plain": [
       "'hah'"
      ]
     },
     "execution_count": 53,
     "metadata": {},
     "output_type": "execute_result"
    }
   ],
   "source": [
    "names [2]"
   ]
  },
  {
   "cell_type": "code",
   "execution_count": 55,
   "id": "ac6b77ce-f786-4cb9-8d3b-b84e32f0a795",
   "metadata": {},
   "outputs": [
    {
     "data": {
      "text/plain": [
       "12"
      ]
     },
     "execution_count": 55,
     "metadata": {},
     "output_type": "execute_result"
    }
   ],
   "source": [
    "mix [0]"
   ]
  },
  {
   "cell_type": "code",
   "execution_count": 57,
   "id": "815d1547-fafd-4bed-bb58-0074c14036d7",
   "metadata": {},
   "outputs": [
    {
     "data": {
      "text/plain": [
       "'das'"
      ]
     },
     "execution_count": 57,
     "metadata": {},
     "output_type": "execute_result"
    }
   ],
   "source": [
    "names [-1]"
   ]
  },
  {
   "cell_type": "code",
   "execution_count": 62,
   "id": "3f93c81b-f423-47a5-bd46-73309c1c50d6",
   "metadata": {},
   "outputs": [
    {
     "data": {
      "text/plain": [
       "['x', 'yz', 'hah']"
      ]
     },
     "execution_count": 62,
     "metadata": {},
     "output_type": "execute_result"
    }
   ],
   "source": [
    "names [0:3] # start index : last index + 1"
   ]
  },
  {
   "cell_type": "code",
   "execution_count": 66,
   "id": "90dae5e0-d4af-4613-8c92-0bfc248fae08",
   "metadata": {},
   "outputs": [
    {
     "data": {
      "text/plain": [
       "['yz', 'hah', 'we']"
      ]
     },
     "execution_count": 66,
     "metadata": {},
     "output_type": "execute_result"
    }
   ],
   "source": [
    "names [1:4]"
   ]
  },
  {
   "cell_type": "code",
   "execution_count": 68,
   "id": "8d1acdfd-1a60-4b02-ada1-3708b6826919",
   "metadata": {},
   "outputs": [
    {
     "data": {
      "text/plain": [
       "['x', 'yz', 'hah', 'we', 'das']"
      ]
     },
     "execution_count": 68,
     "metadata": {},
     "output_type": "execute_result"
    }
   ],
   "source": [
    "names [0:5]"
   ]
  },
  {
   "cell_type": "code",
   "execution_count": 70,
   "id": "9ac76eda-c872-4b25-9355-5f854fb29ebb",
   "metadata": {},
   "outputs": [
    {
     "data": {
      "text/plain": [
       "['hah', 'we', 'das']"
      ]
     },
     "execution_count": 70,
     "metadata": {},
     "output_type": "execute_result"
    }
   ],
   "source": [
    "names [2:]"
   ]
  },
  {
   "cell_type": "code",
   "execution_count": 72,
   "id": "57406a0b-c835-4eb2-ae4b-eada23bdb629",
   "metadata": {},
   "outputs": [
    {
     "data": {
      "text/plain": [
       "['x', 'yz', 'hah', 'we', 'das']"
      ]
     },
     "execution_count": 72,
     "metadata": {},
     "output_type": "execute_result"
    }
   ],
   "source": [
    "names [:]"
   ]
  },
  {
   "cell_type": "code",
   "execution_count": null,
   "id": "bc586665-014b-48ea-9df5-362dec1cf646",
   "metadata": {},
   "outputs": [],
   "source": []
  },
  {
   "cell_type": "code",
   "execution_count": null,
   "id": "d61e2e4d-1b3d-45b8-8924-80490cbf58dc",
   "metadata": {},
   "outputs": [],
   "source": [
    "# Jump Size"
   ]
  },
  {
   "cell_type": "code",
   "execution_count": 76,
   "id": "4dfd58ce-cff5-413f-b041-79ccf65e531b",
   "metadata": {},
   "outputs": [
    {
     "data": {
      "text/plain": [
       "['x', 'yz', 'hah', 'we', 'das']"
      ]
     },
     "execution_count": 76,
     "metadata": {},
     "output_type": "execute_result"
    }
   ],
   "source": [
    "names [0:5:1] # stast index : last index + 1 : Jump size"
   ]
  },
  {
   "cell_type": "code",
   "execution_count": 78,
   "id": "c30272b9-aa3e-482b-a4d8-81226ba74e06",
   "metadata": {},
   "outputs": [
    {
     "data": {
      "text/plain": [
       "['x', 'hah', 'das']"
      ]
     },
     "execution_count": 78,
     "metadata": {},
     "output_type": "execute_result"
    }
   ],
   "source": [
    "names [0:5:2]"
   ]
  },
  {
   "cell_type": "code",
   "execution_count": null,
   "id": "cbb1a448-58be-4073-acf7-28b88a8cf2c7",
   "metadata": {},
   "outputs": [],
   "source": []
  },
  {
   "cell_type": "code",
   "execution_count": null,
   "id": "703e14e5-16e5-4534-91ae-9f6ae2817302",
   "metadata": {},
   "outputs": [],
   "source": [
    "# Example"
   ]
  },
  {
   "cell_type": "code",
   "execution_count": 81,
   "id": "846e2dc6-260d-464f-a71c-287c69f0d6cd",
   "metadata": {},
   "outputs": [],
   "source": [
    "x = [1,2,3,4,5,6,7,8]"
   ]
  },
  {
   "cell_type": "code",
   "execution_count": 83,
   "id": "250e9eb5-55a6-4ea2-b75e-6a03e3686d4d",
   "metadata": {},
   "outputs": [
    {
     "data": {
      "text/plain": [
       "[1, 2, 3, 4, 5, 6, 7, 8]"
      ]
     },
     "execution_count": 83,
     "metadata": {},
     "output_type": "execute_result"
    }
   ],
   "source": [
    "x"
   ]
  },
  {
   "cell_type": "code",
   "execution_count": 85,
   "id": "a71aa3a7-031e-4e89-b734-818e53362bad",
   "metadata": {},
   "outputs": [
    {
     "data": {
      "text/plain": [
       "[1, 2, 3, 4, 5, 6, 7, 8]"
      ]
     },
     "execution_count": 85,
     "metadata": {},
     "output_type": "execute_result"
    }
   ],
   "source": [
    "x [::]"
   ]
  },
  {
   "cell_type": "code",
   "execution_count": 91,
   "id": "af4fa305-a5e8-4c2f-bf87-041c83b32d6c",
   "metadata": {},
   "outputs": [
    {
     "data": {
      "text/plain": [
       "[1, 3, 5, 7]"
      ]
     },
     "execution_count": 91,
     "metadata": {},
     "output_type": "execute_result"
    }
   ],
   "source": [
    "x[::2]"
   ]
  },
  {
   "cell_type": "code",
   "execution_count": 97,
   "id": "33472aa6-f0d3-4b0f-a1fc-1dcabcf9f10a",
   "metadata": {},
   "outputs": [
    {
     "data": {
      "text/plain": [
       "[1, 4, 7]"
      ]
     },
     "execution_count": 97,
     "metadata": {},
     "output_type": "execute_result"
    }
   ],
   "source": [
    "x[::3]"
   ]
  },
  {
   "cell_type": "code",
   "execution_count": 99,
   "id": "a75429d3-af72-4f48-b682-6c472a668513",
   "metadata": {},
   "outputs": [
    {
     "data": {
      "text/plain": [
       "[8]"
      ]
     },
     "execution_count": 99,
     "metadata": {},
     "output_type": "execute_result"
    }
   ],
   "source": [
    "x [-1::]"
   ]
  },
  {
   "cell_type": "code",
   "execution_count": 101,
   "id": "84aebdc4-e729-40b1-9a35-7b9fb6b7ab21",
   "metadata": {},
   "outputs": [
    {
     "data": {
      "text/plain": [
       "[8, 7, 6, 5, 4, 3, 2, 1]"
      ]
     },
     "execution_count": 101,
     "metadata": {},
     "output_type": "execute_result"
    }
   ],
   "source": [
    "x [-1::-1]"
   ]
  },
  {
   "cell_type": "code",
   "execution_count": 103,
   "id": "2ea8f451-6e01-41fb-befd-a048c8efa860",
   "metadata": {},
   "outputs": [
    {
     "data": {
      "text/plain": [
       "[8, 7, 6, 5]"
      ]
     },
     "execution_count": 103,
     "metadata": {},
     "output_type": "execute_result"
    }
   ],
   "source": [
    "x [-1:-5:-1]"
   ]
  },
  {
   "cell_type": "code",
   "execution_count": 105,
   "id": "c463c0fd-1033-42e8-babe-1d5b04d236ee",
   "metadata": {},
   "outputs": [
    {
     "data": {
      "text/plain": [
       "[1, 2, 3, 4, 5, 6, 7, 8]"
      ]
     },
     "execution_count": 105,
     "metadata": {},
     "output_type": "execute_result"
    }
   ],
   "source": [
    "x [:]"
   ]
  },
  {
   "cell_type": "code",
   "execution_count": 107,
   "id": "c5d52c90-64aa-4ec4-99dc-e82f16659999",
   "metadata": {},
   "outputs": [
    {
     "data": {
      "text/plain": [
       "[8, 7, 6, 5, 4, 3, 2, 1]"
      ]
     },
     "execution_count": 107,
     "metadata": {},
     "output_type": "execute_result"
    }
   ],
   "source": [
    "x [::-1]"
   ]
  },
  {
   "cell_type": "code",
   "execution_count": null,
   "id": "49658ce6-167b-4fda-aa66-d29717202f06",
   "metadata": {},
   "outputs": [],
   "source": []
  },
  {
   "cell_type": "code",
   "execution_count": null,
   "id": "009931de-4ac9-462f-92d5-fff58e636f94",
   "metadata": {},
   "outputs": [],
   "source": [
    "# Replacement/change data"
   ]
  },
  {
   "cell_type": "code",
   "execution_count": 109,
   "id": "96456924-1130-44d3-81a4-04a0aa41c030",
   "metadata": {},
   "outputs": [
    {
     "data": {
      "text/plain": [
       "['x', 'yz', 'hah', 'we', 'das']"
      ]
     },
     "execution_count": 109,
     "metadata": {},
     "output_type": "execute_result"
    }
   ],
   "source": [
    "names"
   ]
  },
  {
   "cell_type": "code",
   "execution_count": 111,
   "id": "ee8eea05-c60f-4968-abea-2336ef49302f",
   "metadata": {},
   "outputs": [
    {
     "data": {
      "text/plain": [
       "'x'"
      ]
     },
     "execution_count": 111,
     "metadata": {},
     "output_type": "execute_result"
    }
   ],
   "source": [
    "names [0]"
   ]
  },
  {
   "cell_type": "code",
   "execution_count": 113,
   "id": "958277c0-99ab-474a-918f-dae7fe4afa49",
   "metadata": {},
   "outputs": [],
   "source": [
    "names [0] = 'xz'"
   ]
  },
  {
   "cell_type": "code",
   "execution_count": 115,
   "id": "6139e488-1718-4294-8ffc-5d336ead45be",
   "metadata": {},
   "outputs": [
    {
     "data": {
      "text/plain": [
       "['xz', 'yz', 'hah', 'we', 'das']"
      ]
     },
     "execution_count": 115,
     "metadata": {},
     "output_type": "execute_result"
    }
   ],
   "source": [
    "names"
   ]
  },
  {
   "cell_type": "code",
   "execution_count": 118,
   "id": "dd5a3b88-2622-4443-8867-183e7de75d70",
   "metadata": {},
   "outputs": [],
   "source": [
    "x [2] = 100"
   ]
  },
  {
   "cell_type": "code",
   "execution_count": 120,
   "id": "b14e6df8-937a-486c-9e17-0c07a7ce5438",
   "metadata": {},
   "outputs": [
    {
     "data": {
      "text/plain": [
       "[1, 2, 100, 4, 5, 6, 7, 8]"
      ]
     },
     "execution_count": 120,
     "metadata": {},
     "output_type": "execute_result"
    }
   ],
   "source": [
    "x"
   ]
  },
  {
   "cell_type": "markdown",
   "id": "47423220-37d0-4eae-8cc9-9364a650427a",
   "metadata": {},
   "source": [
    "Thus list is mutable/changable"
   ]
  },
  {
   "cell_type": "code",
   "execution_count": null,
   "id": "aa78656e-f216-454e-ad30-1b2f945586cd",
   "metadata": {},
   "outputs": [],
   "source": []
  },
  {
   "cell_type": "code",
   "execution_count": null,
   "id": "ad9333ef-00e1-4d99-b5c6-d9ad02fc05ff",
   "metadata": {},
   "outputs": [],
   "source": [
    "# Nested List"
   ]
  },
  {
   "cell_type": "code",
   "execution_count": 123,
   "id": "5531e1ca-2825-459b-94ad-73eb3ea75600",
   "metadata": {},
   "outputs": [],
   "source": [
    "a = [1,2,3,4,[10,20,30],5,6]"
   ]
  },
  {
   "cell_type": "code",
   "execution_count": 125,
   "id": "cdc2bad6-817c-4202-beeb-1f5d27b2e903",
   "metadata": {},
   "outputs": [
    {
     "data": {
      "text/plain": [
       "[1, 2, 3, 4, [10, 20, 30], 5, 6]"
      ]
     },
     "execution_count": 125,
     "metadata": {},
     "output_type": "execute_result"
    }
   ],
   "source": [
    "a"
   ]
  },
  {
   "cell_type": "code",
   "execution_count": null,
   "id": "d83efbb3-1b60-4ed8-86e5-a25e35a3d9dc",
   "metadata": {},
   "outputs": [],
   "source": []
  },
  {
   "cell_type": "code",
   "execution_count": 127,
   "id": "207a10df-49b5-4891-8c53-e3e9acf12b66",
   "metadata": {},
   "outputs": [],
   "source": [
    "# Task is to fetch 20"
   ]
  },
  {
   "cell_type": "code",
   "execution_count": 135,
   "id": "321373a8-ddaa-4def-9514-cad0fa93f390",
   "metadata": {},
   "outputs": [
    {
     "data": {
      "text/plain": [
       "[10, 20, 30]"
      ]
     },
     "execution_count": 135,
     "metadata": {},
     "output_type": "execute_result"
    }
   ],
   "source": [
    "a [4]"
   ]
  },
  {
   "cell_type": "code",
   "execution_count": 189,
   "id": "e3adbeea-5fc0-4176-a69f-8b1817b3d9df",
   "metadata": {},
   "outputs": [
    {
     "data": {
      "text/plain": [
       "20"
      ]
     },
     "execution_count": 189,
     "metadata": {},
     "output_type": "execute_result"
    }
   ],
   "source": [
    "a [4][1]"
   ]
  }
 ],
 "metadata": {
  "kernelspec": {
   "display_name": "Python [conda env:base] *",
   "language": "python",
   "name": "conda-base-py"
  },
  "language_info": {
   "codemirror_mode": {
    "name": "ipython",
    "version": 3
   },
   "file_extension": ".py",
   "mimetype": "text/x-python",
   "name": "python",
   "nbconvert_exporter": "python",
   "pygments_lexer": "ipython3",
   "version": "3.12.7"
  }
 },
 "nbformat": 4,
 "nbformat_minor": 5
}
