{
 "cells": [
  {
   "cell_type": "code",
   "execution_count": 1,
   "id": "e735ecf0-cbb7-4f50-a06a-b6f0235b04e7",
   "metadata": {},
   "outputs": [],
   "source": [
    "x = [1, 2, 3, 4, 5, 6, 7, 8]"
   ]
  },
  {
   "cell_type": "code",
   "execution_count": 3,
   "id": "29646c09-f5fb-4e7b-8c39-b09d6c75ee21",
   "metadata": {},
   "outputs": [
    {
     "data": {
      "text/plain": [
       "[1, 2, 3, 4, 5, 6, 7, 8]"
      ]
     },
     "execution_count": 3,
     "metadata": {},
     "output_type": "execute_result"
    }
   ],
   "source": [
    "x"
   ]
  },
  {
   "cell_type": "code",
   "execution_count": null,
   "id": "e5c9220a-56cd-4947-82b6-cc9aa85f570f",
   "metadata": {},
   "outputs": [],
   "source": []
  },
  {
   "cell_type": "code",
   "execution_count": 5,
   "id": "cf5f1715-338b-4bce-8e31-6a10964f57d2",
   "metadata": {},
   "outputs": [],
   "source": [
    "# append"
   ]
  },
  {
   "cell_type": "code",
   "execution_count": 7,
   "id": "0c81c8ca-9039-4dde-99cb-ba5d6033500f",
   "metadata": {},
   "outputs": [],
   "source": [
    "x.append(9)"
   ]
  },
  {
   "cell_type": "code",
   "execution_count": 9,
   "id": "fb736e3e-d451-4241-be5a-e44d0b1dfd5b",
   "metadata": {},
   "outputs": [
    {
     "data": {
      "text/plain": [
       "[1, 2, 3, 4, 5, 6, 7, 8, 9]"
      ]
     },
     "execution_count": 9,
     "metadata": {},
     "output_type": "execute_result"
    }
   ],
   "source": [
    "x"
   ]
  },
  {
   "cell_type": "code",
   "execution_count": 11,
   "id": "94107c0f-47e5-4b3f-ac23-4395dcd87cc8",
   "metadata": {},
   "outputs": [],
   "source": [
    "x.append([10,11,12])"
   ]
  },
  {
   "cell_type": "code",
   "execution_count": 13,
   "id": "001c3339-22ac-49c0-843a-55921e2b48f4",
   "metadata": {},
   "outputs": [
    {
     "data": {
      "text/plain": [
       "[1, 2, 3, 4, 5, 6, 7, 8, 9, [10, 11, 12]]"
      ]
     },
     "execution_count": 13,
     "metadata": {},
     "output_type": "execute_result"
    }
   ],
   "source": [
    "x"
   ]
  },
  {
   "cell_type": "code",
   "execution_count": null,
   "id": "ff8782e6-4138-4ec8-b8db-92084cb61900",
   "metadata": {},
   "outputs": [],
   "source": []
  },
  {
   "cell_type": "code",
   "execution_count": 15,
   "id": "9cab0035-83e3-43c0-8ee6-b114ae5726bc",
   "metadata": {},
   "outputs": [],
   "source": [
    "# extend"
   ]
  },
  {
   "cell_type": "code",
   "execution_count": 17,
   "id": "b89c1841-6d1b-413e-9b0d-db5d26458465",
   "metadata": {},
   "outputs": [],
   "source": [
    "x.extend([13,14,15])"
   ]
  },
  {
   "cell_type": "code",
   "execution_count": 19,
   "id": "a0ace857-32ff-4221-8c72-582bc6b434f1",
   "metadata": {},
   "outputs": [
    {
     "data": {
      "text/plain": [
       "[1, 2, 3, 4, 5, 6, 7, 8, 9, [10, 11, 12], 13, 14, 15]"
      ]
     },
     "execution_count": 19,
     "metadata": {},
     "output_type": "execute_result"
    }
   ],
   "source": [
    "x"
   ]
  },
  {
   "cell_type": "code",
   "execution_count": null,
   "id": "c9679e84-9d9a-4942-a288-9d1da2da38cc",
   "metadata": {},
   "outputs": [],
   "source": []
  },
  {
   "cell_type": "code",
   "execution_count": 1,
   "id": "bc1fcf31-3c5c-4024-99b3-05d3e98fa258",
   "metadata": {},
   "outputs": [],
   "source": [
    "# count"
   ]
  },
  {
   "cell_type": "code",
   "execution_count": 84,
   "id": "f68a282c-5495-47dc-83f5-dc4197151d52",
   "metadata": {},
   "outputs": [],
   "source": [
    "s = [1, 1, 1, 2, 3, 4, 4, 5]"
   ]
  },
  {
   "cell_type": "code",
   "execution_count": 5,
   "id": "6769452a-428a-40c8-b846-a3568e022370",
   "metadata": {},
   "outputs": [
    {
     "data": {
      "text/plain": [
       "3"
      ]
     },
     "execution_count": 5,
     "metadata": {},
     "output_type": "execute_result"
    }
   ],
   "source": [
    "s.count(1)"
   ]
  },
  {
   "cell_type": "code",
   "execution_count": 7,
   "id": "b927828f-70cc-4300-8277-b61cb3c3ed9c",
   "metadata": {},
   "outputs": [
    {
     "data": {
      "text/plain": [
       "1"
      ]
     },
     "execution_count": 7,
     "metadata": {},
     "output_type": "execute_result"
    }
   ],
   "source": [
    "s.count(5)"
   ]
  },
  {
   "cell_type": "code",
   "execution_count": 9,
   "id": "98432326-beb3-49d6-9c65-42411020c14f",
   "metadata": {},
   "outputs": [
    {
     "data": {
      "text/plain": [
       "0"
      ]
     },
     "execution_count": 9,
     "metadata": {},
     "output_type": "execute_result"
    }
   ],
   "source": [
    "s.count(6)"
   ]
  },
  {
   "cell_type": "code",
   "execution_count": null,
   "id": "24a27605-6f76-4dd3-9217-52dd859d03e2",
   "metadata": {},
   "outputs": [],
   "source": []
  },
  {
   "cell_type": "code",
   "execution_count": 11,
   "id": "13c58e20-1394-4376-be11-f9de1155691d",
   "metadata": {},
   "outputs": [],
   "source": [
    "# insert"
   ]
  },
  {
   "cell_type": "code",
   "execution_count": 5,
   "id": "c9f5cf7c-54fe-4af1-9af5-93ed7eace8e4",
   "metadata": {},
   "outputs": [],
   "source": [
    "x = [1, 2, 3, 4, 5, 6, 7, 8, 9, [10, 11, 12], 13, 14, 15]"
   ]
  },
  {
   "cell_type": "code",
   "execution_count": 7,
   "id": "adc9a4ab-0f64-4dcd-bea9-c6cd779fde13",
   "metadata": {},
   "outputs": [
    {
     "data": {
      "text/plain": [
       "[1, 2, 3, 4, 5, 6, 7, 8, 9, [10, 11, 12], 13, 14, 15]"
      ]
     },
     "execution_count": 7,
     "metadata": {},
     "output_type": "execute_result"
    }
   ],
   "source": [
    "x"
   ]
  },
  {
   "cell_type": "code",
   "execution_count": 19,
   "id": "21c7c80a-806a-4c02-92e7-afbbb7ce4017",
   "metadata": {},
   "outputs": [],
   "source": [
    "x.insert(2, 300)"
   ]
  },
  {
   "cell_type": "code",
   "execution_count": 21,
   "id": "cf2b8ed5-cf93-43e7-a16c-5cc0b310d566",
   "metadata": {},
   "outputs": [
    {
     "data": {
      "text/plain": [
       "[1, 2, 300, 300, 300, 300, 3, 4, 5, 6, 7, 8, 9, [10, 11, 12], 13, 14, 15]"
      ]
     },
     "execution_count": 21,
     "metadata": {},
     "output_type": "execute_result"
    }
   ],
   "source": [
    "x"
   ]
  },
  {
   "cell_type": "code",
   "execution_count": 24,
   "id": "f45fa2dc-e939-46a6-9d36-b53113ab67c9",
   "metadata": {},
   "outputs": [
    {
     "data": {
      "text/plain": [
       "[1, 2, 300, 300, 300, 300, 3, 4, 5, 6, 7, 8, 9, [10, 11, 12], 13, 14, 15]"
      ]
     },
     "execution_count": 24,
     "metadata": {},
     "output_type": "execute_result"
    }
   ],
   "source": [
    "x"
   ]
  },
  {
   "cell_type": "code",
   "execution_count": 26,
   "id": "ac3eebf8-fe4b-4561-bcc0-540d3686e756",
   "metadata": {},
   "outputs": [],
   "source": [
    "x.insert(0, 50)"
   ]
  },
  {
   "cell_type": "code",
   "execution_count": 28,
   "id": "685d0ec1-178e-4b70-a6b8-bbbbe2d46743",
   "metadata": {},
   "outputs": [
    {
     "data": {
      "text/plain": [
       "[50, 1, 2, 300, 300, 300, 300, 3, 4, 5, 6, 7, 8, 9, [10, 11, 12], 13, 14, 15]"
      ]
     },
     "execution_count": 28,
     "metadata": {},
     "output_type": "execute_result"
    }
   ],
   "source": [
    "x"
   ]
  },
  {
   "cell_type": "code",
   "execution_count": null,
   "id": "ecba8573-f87b-43c0-9805-38697d87ad36",
   "metadata": {},
   "outputs": [],
   "source": []
  },
  {
   "cell_type": "code",
   "execution_count": 32,
   "id": "beead854-d42e-4a81-b353-6ccd522dfc32",
   "metadata": {},
   "outputs": [],
   "source": [
    "# index"
   ]
  },
  {
   "cell_type": "code",
   "execution_count": 34,
   "id": "6cf0fa19-94e6-4ae8-b242-e82e1e2228c7",
   "metadata": {},
   "outputs": [
    {
     "data": {
      "text/plain": [
       "15"
      ]
     },
     "execution_count": 34,
     "metadata": {},
     "output_type": "execute_result"
    }
   ],
   "source": [
    "x.index(13)"
   ]
  },
  {
   "cell_type": "code",
   "execution_count": 38,
   "id": "e690218c-854c-4f77-a485-2de983fc60f3",
   "metadata": {},
   "outputs": [],
   "source": [
    "s = (1, 1, 1, 2, 2, 3)"
   ]
  },
  {
   "cell_type": "code",
   "execution_count": 40,
   "id": "e6a9dbcf-bb0c-4928-8adf-c5918951e17b",
   "metadata": {},
   "outputs": [
    {
     "data": {
      "text/plain": [
       "0"
      ]
     },
     "execution_count": 40,
     "metadata": {},
     "output_type": "execute_result"
    }
   ],
   "source": [
    "s.index(1) #nearest"
   ]
  },
  {
   "cell_type": "code",
   "execution_count": 42,
   "id": "bb4a5f37-10c9-459d-9f74-247ea420a63f",
   "metadata": {},
   "outputs": [
    {
     "data": {
      "text/plain": [
       "[50, 1, 2, 300, 300, 300, 300, 3, 4, 5, 6, 7, 8, 9, [10, 11, 12], 13, 14, 15]"
      ]
     },
     "execution_count": 42,
     "metadata": {},
     "output_type": "execute_result"
    }
   ],
   "source": [
    "x"
   ]
  },
  {
   "cell_type": "code",
   "execution_count": null,
   "id": "044af4c9-db6b-4dd1-9215-9b322ec478fd",
   "metadata": {},
   "outputs": [],
   "source": []
  },
  {
   "cell_type": "code",
   "execution_count": 44,
   "id": "bebf1e0d-1164-4a30-bb44-9e55cd400abd",
   "metadata": {},
   "outputs": [],
   "source": [
    "# remove"
   ]
  },
  {
   "cell_type": "code",
   "execution_count": 46,
   "id": "1800f49f-9045-46fe-801c-dd2194a6d80c",
   "metadata": {},
   "outputs": [],
   "source": [
    "x.remove(50)"
   ]
  },
  {
   "cell_type": "code",
   "execution_count": 48,
   "id": "3bb06a6e-28a4-4774-bcec-a618df69c3e2",
   "metadata": {},
   "outputs": [
    {
     "data": {
      "text/plain": [
       "[1, 2, 300, 300, 300, 300, 3, 4, 5, 6, 7, 8, 9, [10, 11, 12], 13, 14, 15]"
      ]
     },
     "execution_count": 48,
     "metadata": {},
     "output_type": "execute_result"
    }
   ],
   "source": [
    "x"
   ]
  },
  {
   "cell_type": "code",
   "execution_count": 50,
   "id": "ff1ac3f1-9742-4dd1-800f-d2d8c7ab3187",
   "metadata": {},
   "outputs": [],
   "source": [
    "x.remove(300) #nearest"
   ]
  },
  {
   "cell_type": "code",
   "execution_count": 52,
   "id": "17bac4ff-fd22-4a16-a05f-59a2b8ba842e",
   "metadata": {},
   "outputs": [
    {
     "data": {
      "text/plain": [
       "[1, 2, 300, 300, 300, 3, 4, 5, 6, 7, 8, 9, [10, 11, 12], 13, 14, 15]"
      ]
     },
     "execution_count": 52,
     "metadata": {},
     "output_type": "execute_result"
    }
   ],
   "source": [
    "x"
   ]
  },
  {
   "cell_type": "code",
   "execution_count": null,
   "id": "c8bb17ce-ccde-444a-90cd-0a61c7132451",
   "metadata": {},
   "outputs": [],
   "source": []
  },
  {
   "cell_type": "code",
   "execution_count": 54,
   "id": "f439c6b9-bfd4-47ab-8f5a-7702079231cc",
   "metadata": {},
   "outputs": [],
   "source": [
    "# pop"
   ]
  },
  {
   "cell_type": "code",
   "execution_count": 80,
   "id": "9b95d288-f6c6-4702-bbe8-ccbb4bc6ef8b",
   "metadata": {},
   "outputs": [],
   "source": [
    "y = [1,2,3,4,5,6,7,8]"
   ]
  },
  {
   "cell_type": "code",
   "execution_count": 82,
   "id": "c71596b8-2ad3-4766-9c21-73cd68a0b0e5",
   "metadata": {},
   "outputs": [
    {
     "data": {
      "text/plain": [
       "8"
      ]
     },
     "execution_count": 82,
     "metadata": {},
     "output_type": "execute_result"
    }
   ],
   "source": [
    "y.pop()"
   ]
  },
  {
   "cell_type": "code",
   "execution_count": 86,
   "id": "a4c7a873-46f9-4ded-99dd-a5c621345949",
   "metadata": {},
   "outputs": [
    {
     "data": {
      "text/plain": [
       "[1, 1, 1, 2, 3, 4, 4, 5]"
      ]
     },
     "execution_count": 86,
     "metadata": {},
     "output_type": "execute_result"
    }
   ],
   "source": [
    "s"
   ]
  },
  {
   "cell_type": "code",
   "execution_count": 88,
   "id": "0361b25f-b209-4eaa-b401-125c10ce3d43",
   "metadata": {},
   "outputs": [
    {
     "data": {
      "text/plain": [
       "5"
      ]
     },
     "execution_count": 88,
     "metadata": {},
     "output_type": "execute_result"
    }
   ],
   "source": [
    "s.pop()"
   ]
  },
  {
   "cell_type": "code",
   "execution_count": 90,
   "id": "cc706168-5e65-4404-a1e0-72a071bd2637",
   "metadata": {},
   "outputs": [],
   "source": [
    "names = ['as', 'ds', 'df']"
   ]
  },
  {
   "cell_type": "code",
   "execution_count": 92,
   "id": "545786f0-72e2-4f54-8cf6-52f54475c7b5",
   "metadata": {},
   "outputs": [
    {
     "data": {
      "text/plain": [
       "'df'"
      ]
     },
     "execution_count": 92,
     "metadata": {},
     "output_type": "execute_result"
    }
   ],
   "source": [
    "names.pop()"
   ]
  },
  {
   "cell_type": "code",
   "execution_count": 94,
   "id": "46b2743d-5584-4689-988e-2061cb2d89dd",
   "metadata": {},
   "outputs": [
    {
     "data": {
      "text/plain": [
       "[1, 2, 3, 4, 5, 6, 7]"
      ]
     },
     "execution_count": 94,
     "metadata": {},
     "output_type": "execute_result"
    }
   ],
   "source": [
    "y"
   ]
  },
  {
   "cell_type": "code",
   "execution_count": 96,
   "id": "2ba8dfd7-371d-48b7-a5fb-4a038c02328f",
   "metadata": {},
   "outputs": [
    {
     "data": {
      "text/plain": [
       "[1, 1, 1, 2, 3, 4, 4]"
      ]
     },
     "execution_count": 96,
     "metadata": {},
     "output_type": "execute_result"
    }
   ],
   "source": [
    "s"
   ]
  },
  {
   "cell_type": "code",
   "execution_count": 98,
   "id": "e7bed345-3403-4045-82f1-2b07b7d6ea9d",
   "metadata": {},
   "outputs": [
    {
     "data": {
      "text/plain": [
       "['as', 'ds']"
      ]
     },
     "execution_count": 98,
     "metadata": {},
     "output_type": "execute_result"
    }
   ],
   "source": [
    "names"
   ]
  },
  {
   "cell_type": "code",
   "execution_count": null,
   "id": "10a1aa75-5f55-4f44-b73f-8c8b5d1ef6c3",
   "metadata": {},
   "outputs": [],
   "source": []
  },
  {
   "cell_type": "code",
   "execution_count": 100,
   "id": "073feda9-0017-4508-82b0-644469891143",
   "metadata": {},
   "outputs": [],
   "source": [
    "# reverse"
   ]
  },
  {
   "cell_type": "code",
   "execution_count": 102,
   "id": "de0375f1-7d30-4af5-8750-3d3e4e39a838",
   "metadata": {},
   "outputs": [
    {
     "data": {
      "text/plain": [
       "[1, 2, 300, 300, 300, 3, 4, 5, 6, 7, 8]"
      ]
     },
     "execution_count": 102,
     "metadata": {},
     "output_type": "execute_result"
    }
   ],
   "source": [
    "x"
   ]
  },
  {
   "cell_type": "code",
   "execution_count": 104,
   "id": "da0cfcab-0b98-4240-862f-c5b84026c6f4",
   "metadata": {},
   "outputs": [],
   "source": [
    "x.reverse()"
   ]
  },
  {
   "cell_type": "code",
   "execution_count": 106,
   "id": "5d92d5e3-d6f4-4bcf-84a0-3d438362ea57",
   "metadata": {},
   "outputs": [
    {
     "data": {
      "text/plain": [
       "[8, 7, 6, 5, 4, 3, 300, 300, 300, 2, 1]"
      ]
     },
     "execution_count": 106,
     "metadata": {},
     "output_type": "execute_result"
    }
   ],
   "source": [
    "x"
   ]
  },
  {
   "cell_type": "code",
   "execution_count": 108,
   "id": "4936c702-4a3d-472e-ad70-f98b85d6b2e3",
   "metadata": {},
   "outputs": [],
   "source": [
    "s.reverse()"
   ]
  },
  {
   "cell_type": "code",
   "execution_count": 110,
   "id": "9b311e16-63a8-45a5-aa44-c69b0ae8d01d",
   "metadata": {},
   "outputs": [
    {
     "data": {
      "text/plain": [
       "[4, 4, 3, 2, 1, 1, 1]"
      ]
     },
     "execution_count": 110,
     "metadata": {},
     "output_type": "execute_result"
    }
   ],
   "source": [
    "s"
   ]
  },
  {
   "cell_type": "code",
   "execution_count": null,
   "id": "408514b6-5554-4132-b8b9-121ba7f8bc82",
   "metadata": {},
   "outputs": [],
   "source": []
  },
  {
   "cell_type": "code",
   "execution_count": 112,
   "id": "a2f51e10-9a8c-4208-a7c4-1a2ba728a8a1",
   "metadata": {},
   "outputs": [],
   "source": [
    "# sort"
   ]
  },
  {
   "cell_type": "code",
   "execution_count": 114,
   "id": "6fec6325-c15f-4784-a661-d5311092f9f8",
   "metadata": {},
   "outputs": [],
   "source": [
    "s.sort() #ascending"
   ]
  },
  {
   "cell_type": "code",
   "execution_count": 116,
   "id": "b37ce092-d486-49cc-9a9b-8f83067eb435",
   "metadata": {},
   "outputs": [
    {
     "data": {
      "text/plain": [
       "[1, 1, 1, 2, 3, 4, 4]"
      ]
     },
     "execution_count": 116,
     "metadata": {},
     "output_type": "execute_result"
    }
   ],
   "source": [
    "s"
   ]
  },
  {
   "cell_type": "code",
   "execution_count": 118,
   "id": "3083d0a3-2781-4ebc-b7a2-84561e0a393f",
   "metadata": {},
   "outputs": [],
   "source": [
    "x.sort()"
   ]
  },
  {
   "cell_type": "code",
   "execution_count": 120,
   "id": "a24347a7-89d1-477e-9d5f-fd837ce68e07",
   "metadata": {},
   "outputs": [
    {
     "data": {
      "text/plain": [
       "[1, 2, 3, 4, 5, 6, 7, 8, 300, 300, 300]"
      ]
     },
     "execution_count": 120,
     "metadata": {},
     "output_type": "execute_result"
    }
   ],
   "source": [
    "x"
   ]
  },
  {
   "cell_type": "code",
   "execution_count": null,
   "id": "a7d8d483-3a1e-42e6-9597-7d3d465954b0",
   "metadata": {},
   "outputs": [],
   "source": []
  }
 ],
 "metadata": {
  "kernelspec": {
   "display_name": "Python [conda env:base] *",
   "language": "python",
   "name": "conda-base-py"
  },
  "language_info": {
   "codemirror_mode": {
    "name": "ipython",
    "version": 3
   },
   "file_extension": ".py",
   "mimetype": "text/x-python",
   "name": "python",
   "nbconvert_exporter": "python",
   "pygments_lexer": "ipython3",
   "version": "3.12.7"
  }
 },
 "nbformat": 4,
 "nbformat_minor": 5
}
