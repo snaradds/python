{
 "cells": [
  {
   "cell_type": "markdown",
   "id": "4103edaa-772a-4b29-a474-52cc3d54bfdd",
   "metadata": {},
   "source": [
    "# Data Types"
   ]
  },
  {
   "cell_type": "markdown",
   "id": "ba77d066-0513-4493-93c4-769f6c74845f",
   "metadata": {},
   "source": [
    "# 1. Integer"
   ]
  },
  {
   "cell_type": "raw",
   "id": "a239badb-2ec3-406f-815c-718ad28be9d2",
   "metadata": {},
   "source": [
    "Complete Number\n",
    "Ex- 4, 8, 35, 1883 etc"
   ]
  },
  {
   "cell_type": "code",
   "execution_count": 4,
   "id": "df59916a-8082-4f34-bfa9-89df313029c6",
   "metadata": {},
   "outputs": [
    {
     "data": {
      "text/plain": [
       "int"
      ]
     },
     "execution_count": 4,
     "metadata": {},
     "output_type": "execute_result"
    }
   ],
   "source": [
    "type(5)"
   ]
  },
  {
   "cell_type": "markdown",
   "id": "d140c94c-03db-44f6-9b66-19627a18ab64",
   "metadata": {},
   "source": [
    "# 2. Float"
   ]
  },
  {
   "cell_type": "raw",
   "id": "8dd3a522-2747-41fd-bc21-77280c5931d2",
   "metadata": {},
   "source": [
    "Decimal Value\n",
    "Ex. 4.8, 2.3, 99.2 etc"
   ]
  },
  {
   "cell_type": "code",
   "execution_count": 9,
   "id": "a8e12e8c-ea2c-45ec-85ac-23fa78fdd00f",
   "metadata": {},
   "outputs": [
    {
     "data": {
      "text/plain": [
       "float"
      ]
     },
     "execution_count": 9,
     "metadata": {},
     "output_type": "execute_result"
    }
   ],
   "source": [
    "type(4.8)"
   ]
  },
  {
   "cell_type": "markdown",
   "id": "2913d7db-4ce1-48af-b353-28ad1c59fe28",
   "metadata": {},
   "source": [
    "# 3. Complex Number"
   ]
  },
  {
   "cell_type": "raw",
   "id": "c8c0ed85-461b-4376-8362-9f318f630372",
   "metadata": {},
   "source": [
    "Vector Values\n",
    "Ex- 10+2j"
   ]
  },
  {
   "cell_type": "code",
   "execution_count": 19,
   "id": "fb1ec437-7f51-4712-b1ef-e0a86738bcdc",
   "metadata": {},
   "outputs": [
    {
     "data": {
      "text/plain": [
       "complex"
      ]
     },
     "execution_count": 19,
     "metadata": {},
     "output_type": "execute_result"
    }
   ],
   "source": [
    "type(10+2j)"
   ]
  },
  {
   "cell_type": "markdown",
   "id": "87d05021-28a1-4581-9458-9915c868f2d2",
   "metadata": {},
   "source": [
    "# 4. String"
   ]
  },
  {
   "cell_type": "raw",
   "id": "d1a9471b-161c-4bbf-9505-d1c7018d04cc",
   "metadata": {},
   "source": [
    "word, Character, Sentence\n",
    "' ', \" \" "
   ]
  },
  {
   "cell_type": "code",
   "execution_count": 24,
   "id": "7806500e-432c-47ff-be93-809592ec98e3",
   "metadata": {},
   "outputs": [
    {
     "data": {
      "text/plain": [
       "'Hellow'"
      ]
     },
     "execution_count": 24,
     "metadata": {},
     "output_type": "execute_result"
    }
   ],
   "source": [
    "'Hellow'"
   ]
  },
  {
   "cell_type": "code",
   "execution_count": 26,
   "id": "ba4c89f0-9dad-4ad2-ab54-966dba34b312",
   "metadata": {},
   "outputs": [
    {
     "data": {
      "text/plain": [
       "'Hello Python'"
      ]
     },
     "execution_count": 26,
     "metadata": {},
     "output_type": "execute_result"
    }
   ],
   "source": [
    "\"Hello Python\""
   ]
  },
  {
   "cell_type": "code",
   "execution_count": 30,
   "id": "3096eaa2-67bc-4f61-9191-2c1a2350a43a",
   "metadata": {},
   "outputs": [
    {
     "data": {
      "text/plain": [
       "'Hello Python. This is Swapnil.'"
      ]
     },
     "execution_count": 30,
     "metadata": {},
     "output_type": "execute_result"
    }
   ],
   "source": [
    "'Hello Python. This is Swapnil.'"
   ]
  },
  {
   "cell_type": "code",
   "execution_count": 32,
   "id": "b4b0d3b3-3868-4272-b1e6-89c642c0209e",
   "metadata": {},
   "outputs": [
    {
     "ename": "SyntaxError",
     "evalue": "unterminated string literal (detected at line 1) (3305529745.py, line 1)",
     "output_type": "error",
     "traceback": [
      "\u001b[1;36m  Cell \u001b[1;32mIn[32], line 1\u001b[1;36m\u001b[0m\n\u001b[1;33m    'This is my 1st line.\u001b[0m\n\u001b[1;37m    ^\u001b[0m\n\u001b[1;31mSyntaxError\u001b[0m\u001b[1;31m:\u001b[0m unterminated string literal (detected at line 1)\n"
     ]
    }
   ],
   "source": [
    "'This is my 1st line.\n",
    "This is my second line'"
   ]
  },
  {
   "cell_type": "code",
   "execution_count": 34,
   "id": "af3ea152-7086-4443-8d98-8883ac5a7f1f",
   "metadata": {},
   "outputs": [
    {
     "data": {
      "text/plain": [
       "'This is my 1st line.\\nThis is my second line'"
      ]
     },
     "execution_count": 34,
     "metadata": {},
     "output_type": "execute_result"
    }
   ],
   "source": [
    "'''This is my 1st line.\n",
    "This is my second line'''"
   ]
  },
  {
   "cell_type": "code",
   "execution_count": 36,
   "id": "f0912ebe-4b00-4787-87ab-5d05549e6d22",
   "metadata": {},
   "outputs": [
    {
     "name": "stdout",
     "output_type": "stream",
     "text": [
      "This is my 1st line.\n",
      "This is my second line\n"
     ]
    }
   ],
   "source": [
    "print('''This is my 1st line.\n",
    "This is my second line''')"
   ]
  },
  {
   "cell_type": "markdown",
   "id": "e4a6aa05-8332-4076-ab0e-773de3f187e3",
   "metadata": {},
   "source": [
    "# 5. Boolean Values"
   ]
  },
  {
   "cell_type": "raw",
   "id": "961c0fe9-f348-4f18-ad04-26794c94040f",
   "metadata": {},
   "source": [
    "True or False"
   ]
  },
  {
   "cell_type": "code",
   "execution_count": 39,
   "id": "3fb5b3ff-ccd3-4220-9a27-835077d72714",
   "metadata": {},
   "outputs": [
    {
     "data": {
      "text/plain": [
       "True"
      ]
     },
     "execution_count": 39,
     "metadata": {},
     "output_type": "execute_result"
    }
   ],
   "source": [
    "50 < 100"
   ]
  },
  {
   "cell_type": "code",
   "execution_count": 41,
   "id": "1d4d79ff-e7f6-40b4-9426-d0270a632d9c",
   "metadata": {},
   "outputs": [
    {
     "data": {
      "text/plain": [
       "False"
      ]
     },
     "execution_count": 41,
     "metadata": {},
     "output_type": "execute_result"
    }
   ],
   "source": [
    "50>100"
   ]
  },
  {
   "cell_type": "code",
   "execution_count": null,
   "id": "286fa8be-bc2c-489f-a8a2-3bec21bc8f5f",
   "metadata": {},
   "outputs": [],
   "source": []
  }
 ],
 "metadata": {
  "kernelspec": {
   "display_name": "Python [conda env:base] *",
   "language": "python",
   "name": "conda-base-py"
  },
  "language_info": {
   "codemirror_mode": {
    "name": "ipython",
    "version": 3
   },
   "file_extension": ".py",
   "mimetype": "text/x-python",
   "name": "python",
   "nbconvert_exporter": "python",
   "pygments_lexer": "ipython3",
   "version": "3.12.7"
  }
 },
 "nbformat": 4,
 "nbformat_minor": 5
}
