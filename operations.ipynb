{
 "cells": [
  {
   "cell_type": "code",
   "execution_count": 1,
   "id": "98e7eab7-0b1f-43f3-af8b-5b530c48a493",
   "metadata": {},
   "outputs": [
    {
     "data": {
      "text/plain": [
       "15"
      ]
     },
     "execution_count": 1,
     "metadata": {},
     "output_type": "execute_result"
    }
   ],
   "source": [
    "10 + 5 #int +int"
   ]
  },
  {
   "cell_type": "code",
   "execution_count": 3,
   "id": "0e60cfdf-983b-43a0-b061-9983810deae2",
   "metadata": {},
   "outputs": [
    {
     "data": {
      "text/plain": [
       "50"
      ]
     },
     "execution_count": 3,
     "metadata": {},
     "output_type": "execute_result"
    }
   ],
   "source": [
    "10 * 5"
   ]
  },
  {
   "cell_type": "code",
   "execution_count": 5,
   "id": "ddc8097c-c88c-470d-97ba-640323df5450",
   "metadata": {},
   "outputs": [
    {
     "data": {
      "text/plain": [
       "5"
      ]
     },
     "execution_count": 5,
     "metadata": {},
     "output_type": "execute_result"
    }
   ],
   "source": [
    "10 - 5"
   ]
  },
  {
   "cell_type": "code",
   "execution_count": 7,
   "id": "b48f54fb-0370-44cb-b41f-2318519daf56",
   "metadata": {},
   "outputs": [
    {
     "data": {
      "text/plain": [
       "2.0"
      ]
     },
     "execution_count": 7,
     "metadata": {},
     "output_type": "execute_result"
    }
   ],
   "source": [
    "10 / 5"
   ]
  },
  {
   "cell_type": "code",
   "execution_count": 9,
   "id": "63fcdbfd-1546-418c-81fc-f6441ee1e24b",
   "metadata": {},
   "outputs": [
    {
     "ename": "TypeError",
     "evalue": "unsupported operand type(s) for +: 'int' and 'str'",
     "output_type": "error",
     "traceback": [
      "\u001b[1;31m---------------------------------------------------------------------------\u001b[0m",
      "\u001b[1;31mTypeError\u001b[0m                                 Traceback (most recent call last)",
      "Cell \u001b[1;32mIn[9], line 1\u001b[0m\n\u001b[1;32m----> 1\u001b[0m \u001b[38;5;241m5\u001b[39m \u001b[38;5;241m+\u001b[39m \u001b[38;5;124m'\u001b[39m\u001b[38;5;124mhello\u001b[39m\u001b[38;5;124m'\u001b[39m\n",
      "\u001b[1;31mTypeError\u001b[0m: unsupported operand type(s) for +: 'int' and 'str'"
     ]
    }
   ],
   "source": [
    "5 + 'hello' #int + string"
   ]
  },
  {
   "cell_type": "code",
   "execution_count": 11,
   "id": "d9c34a18-fcd2-4e84-8e69-91d3b9f8235d",
   "metadata": {},
   "outputs": [
    {
     "data": {
      "text/plain": [
       "'hellopython'"
      ]
     },
     "execution_count": 11,
     "metadata": {},
     "output_type": "execute_result"
    }
   ],
   "source": [
    "'hello' + 'python'"
   ]
  },
  {
   "cell_type": "code",
   "execution_count": 13,
   "id": "ca711094-e247-4891-a4cb-f1ef901509b8",
   "metadata": {},
   "outputs": [
    {
     "data": {
      "text/plain": [
       "'hello python'"
      ]
     },
     "execution_count": 13,
     "metadata": {},
     "output_type": "execute_result"
    }
   ],
   "source": [
    "'hello ' + 'python'"
   ]
  },
  {
   "cell_type": "code",
   "execution_count": 15,
   "id": "576fd588-f87c-445f-8b76-6a3c3f4d8ef5",
   "metadata": {},
   "outputs": [
    {
     "data": {
      "text/plain": [
       "'hello python'"
      ]
     },
     "execution_count": 15,
     "metadata": {},
     "output_type": "execute_result"
    }
   ],
   "source": [
    "'hello' + ' ' + 'python'"
   ]
  },
  {
   "cell_type": "code",
   "execution_count": 17,
   "id": "8713bd2d-58e2-4f8a-bd66-e7e69f09f546",
   "metadata": {},
   "outputs": [
    {
     "data": {
      "text/plain": [
       "'hellohellohellohellohello'"
      ]
     },
     "execution_count": 17,
     "metadata": {},
     "output_type": "execute_result"
    }
   ],
   "source": [
    "\"hello\" * 5 # 5 times hello"
   ]
  },
  {
   "cell_type": "code",
   "execution_count": 19,
   "id": "2b918822-7047-4a4b-bfe0-a25af27a7c34",
   "metadata": {},
   "outputs": [
    {
     "data": {
      "text/plain": [
       "'hello hello hello hello hello '"
      ]
     },
     "execution_count": 19,
     "metadata": {},
     "output_type": "execute_result"
    }
   ],
   "source": [
    "'hello ' * 5"
   ]
  },
  {
   "cell_type": "code",
   "execution_count": 21,
   "id": "157e96a7-da18-4463-abff-86c9ebebc03c",
   "metadata": {},
   "outputs": [
    {
     "data": {
      "text/plain": [
       "1"
      ]
     },
     "execution_count": 21,
     "metadata": {},
     "output_type": "execute_result"
    }
   ],
   "source": [
    "10 % 3  #mode"
   ]
  },
  {
   "cell_type": "code",
   "execution_count": 23,
   "id": "63691745-82b6-4bbc-b6b9-4f368cf30716",
   "metadata": {},
   "outputs": [
    {
     "data": {
      "text/plain": [
       "3.3333333333333335"
      ]
     },
     "execution_count": 23,
     "metadata": {},
     "output_type": "execute_result"
    }
   ],
   "source": [
    "10 / 3"
   ]
  },
  {
   "cell_type": "markdown",
   "id": "a94f45bb-250a-41e0-bf29-3834b41a5ea1",
   "metadata": {},
   "source": [
    "# Variable"
   ]
  },
  {
   "cell_type": "raw",
   "id": "685961d7-1cad-4f61-869d-27cc48aea2f9",
   "metadata": {},
   "source": [
    "variable is used for storing data type / object"
   ]
  },
  {
   "cell_type": "code",
   "execution_count": 26,
   "id": "8a17229a-a5a2-453d-b40a-59a1c39fe5fd",
   "metadata": {},
   "outputs": [],
   "source": [
    "x = 5\n",
    "y = 5\n",
    "c = x + y"
   ]
  },
  {
   "cell_type": "code",
   "execution_count": 28,
   "id": "51db4797-95a3-407b-be1c-0905460faeb0",
   "metadata": {},
   "outputs": [
    {
     "data": {
      "text/plain": [
       "10"
      ]
     },
     "execution_count": 28,
     "metadata": {},
     "output_type": "execute_result"
    }
   ],
   "source": [
    "c"
   ]
  },
  {
   "cell_type": "code",
   "execution_count": 30,
   "id": "1b42d156-3a27-42ad-bcfd-77cc2c093c12",
   "metadata": {},
   "outputs": [],
   "source": [
    "x1 = 10"
   ]
  },
  {
   "cell_type": "code",
   "execution_count": 32,
   "id": "54522b6d-b6c3-404c-aec7-44528e2eb0b6",
   "metadata": {},
   "outputs": [
    {
     "data": {
      "text/plain": [
       "50"
      ]
     },
     "execution_count": 32,
     "metadata": {},
     "output_type": "execute_result"
    }
   ],
   "source": [
    "x1 * y"
   ]
  },
  {
   "cell_type": "code",
   "execution_count": 34,
   "id": "fd712fec-d8aa-4404-847e-20fb353b33e6",
   "metadata": {},
   "outputs": [],
   "source": [
    "x_1 = 100"
   ]
  },
  {
   "cell_type": "code",
   "execution_count": 36,
   "id": "bec105fc-55f3-414a-9b67-6aa5dad25c04",
   "metadata": {},
   "outputs": [
    {
     "data": {
      "text/plain": [
       "20.0"
      ]
     },
     "execution_count": 36,
     "metadata": {},
     "output_type": "execute_result"
    }
   ],
   "source": [
    "x_1 / 5"
   ]
  },
  {
   "cell_type": "code",
   "execution_count": 38,
   "id": "9524b79d-2dc1-45fd-b8b6-3e4d8874390d",
   "metadata": {},
   "outputs": [],
   "source": [
    "a = 'hello'\n",
    "b = 'python'"
   ]
  },
  {
   "cell_type": "code",
   "execution_count": 40,
   "id": "3e17a596-dcbd-492a-9680-465a6e70b6e0",
   "metadata": {},
   "outputs": [
    {
     "data": {
      "text/plain": [
       "'hellopython'"
      ]
     },
     "execution_count": 40,
     "metadata": {},
     "output_type": "execute_result"
    }
   ],
   "source": [
    "a + b"
   ]
  },
  {
   "cell_type": "code",
   "execution_count": 42,
   "id": "f80b68db-d4a1-42e0-8fb0-24aadfb49342",
   "metadata": {},
   "outputs": [],
   "source": [
    "c = a + b"
   ]
  },
  {
   "cell_type": "code",
   "execution_count": 44,
   "id": "43483e71-a6af-4709-8b4e-5ed2d22a23e7",
   "metadata": {},
   "outputs": [
    {
     "data": {
      "text/plain": [
       "'hellopython'"
      ]
     },
     "execution_count": 44,
     "metadata": {},
     "output_type": "execute_result"
    }
   ],
   "source": [
    "c"
   ]
  },
  {
   "cell_type": "code",
   "execution_count": 46,
   "id": "98d537c2-4ae8-4b1c-a1c9-c68d4c025f38",
   "metadata": {},
   "outputs": [
    {
     "data": {
      "text/plain": [
       "str"
      ]
     },
     "execution_count": 46,
     "metadata": {},
     "output_type": "execute_result"
    }
   ],
   "source": [
    "type (c)"
   ]
  },
  {
   "cell_type": "code",
   "execution_count": 48,
   "id": "d326baa5-e353-4642-a081-9656a1e3dddf",
   "metadata": {},
   "outputs": [
    {
     "data": {
      "text/plain": [
       "int"
      ]
     },
     "execution_count": 48,
     "metadata": {},
     "output_type": "execute_result"
    }
   ],
   "source": [
    "type (x)"
   ]
  },
  {
   "cell_type": "code",
   "execution_count": 50,
   "id": "82e3d475-9261-4f51-a751-299a9f9016b9",
   "metadata": {},
   "outputs": [],
   "source": [
    "z = x_1 / 5"
   ]
  },
  {
   "cell_type": "code",
   "execution_count": 52,
   "id": "c39d968d-80f7-4022-868d-40aa7e297925",
   "metadata": {},
   "outputs": [
    {
     "data": {
      "text/plain": [
       "20.0"
      ]
     },
     "execution_count": 52,
     "metadata": {},
     "output_type": "execute_result"
    }
   ],
   "source": [
    "z"
   ]
  },
  {
   "cell_type": "code",
   "execution_count": 54,
   "id": "9c8abdca-6946-43ef-b8b5-619561fe0659",
   "metadata": {},
   "outputs": [
    {
     "data": {
      "text/plain": [
       "float"
      ]
     },
     "execution_count": 54,
     "metadata": {},
     "output_type": "execute_result"
    }
   ],
   "source": [
    "type (z)"
   ]
  },
  {
   "cell_type": "code",
   "execution_count": 56,
   "id": "2b234b7b-df0a-4ff9-91be-c89a378cbe2b",
   "metadata": {},
   "outputs": [],
   "source": [
    "d = '3'"
   ]
  },
  {
   "cell_type": "code",
   "execution_count": 58,
   "id": "8b90bcd1-c57e-4490-b24e-91f39cc9dc30",
   "metadata": {},
   "outputs": [
    {
     "data": {
      "text/plain": [
       "str"
      ]
     },
     "execution_count": 58,
     "metadata": {},
     "output_type": "execute_result"
    }
   ],
   "source": [
    "type (d)"
   ]
  },
  {
   "cell_type": "code",
   "execution_count": 60,
   "id": "66d06795-d189-4fa2-b63b-89215fd2d932",
   "metadata": {},
   "outputs": [],
   "source": [
    "# input from user"
   ]
  },
  {
   "cell_type": "code",
   "execution_count": 62,
   "id": "69ad78a4-a771-4cb4-81d4-b52f601f92ba",
   "metadata": {},
   "outputs": [
    {
     "name": "stdin",
     "output_type": "stream",
     "text": [
      "My name is Swapnil\n"
     ]
    }
   ],
   "source": [
    "name = input ('My name is')"
   ]
  },
  {
   "cell_type": "code",
   "execution_count": 64,
   "id": "1491cc39-ea04-4f83-8d45-35038d2d8cc8",
   "metadata": {},
   "outputs": [
    {
     "data": {
      "text/plain": [
       "'Swapnil'"
      ]
     },
     "execution_count": 64,
     "metadata": {},
     "output_type": "execute_result"
    }
   ],
   "source": [
    "name"
   ]
  },
  {
   "cell_type": "code",
   "execution_count": 66,
   "id": "ed4ea2a8-b47c-42df-ad0f-ea7ea4bbfb9a",
   "metadata": {},
   "outputs": [],
   "source": [
    "x = 'my name is ' + name "
   ]
  },
  {
   "cell_type": "code",
   "execution_count": 68,
   "id": "7294b6c6-a2cb-4d41-b925-965d48bcfc09",
   "metadata": {},
   "outputs": [
    {
     "data": {
      "text/plain": [
       "'my name is Swapnil'"
      ]
     },
     "execution_count": 68,
     "metadata": {},
     "output_type": "execute_result"
    }
   ],
   "source": [
    "x"
   ]
  },
  {
   "cell_type": "code",
   "execution_count": 70,
   "id": "defb862f-6a5c-4451-b6d2-ccf2129c3f0f",
   "metadata": {},
   "outputs": [
    {
     "name": "stdin",
     "output_type": "stream",
     "text": [
      "what is your first name Swapnil\n",
      "what is your last name Narad\n"
     ]
    }
   ],
   "source": [
    "first_name = input ('what is your first name')\n",
    "last_name = input ('what is your last name')\n",
    "full_name = first_name + ' ' + last_name"
   ]
  },
  {
   "cell_type": "code",
   "execution_count": 72,
   "id": "d8037b6b-838b-4ae7-b4eb-3e2a50c573e5",
   "metadata": {},
   "outputs": [
    {
     "data": {
      "text/plain": [
       "'Swapnil Narad'"
      ]
     },
     "execution_count": 72,
     "metadata": {},
     "output_type": "execute_result"
    }
   ],
   "source": [
    "full_name"
   ]
  },
  {
   "cell_type": "code",
   "execution_count": 74,
   "id": "ac2f9a14-42a2-4cf4-8e6d-306ab43e1f6c",
   "metadata": {},
   "outputs": [
    {
     "name": "stdin",
     "output_type": "stream",
     "text": [
      "what is your age 32\n"
     ]
    }
   ],
   "source": [
    "age = input('what is your age')"
   ]
  },
  {
   "cell_type": "code",
   "execution_count": 76,
   "id": "ef8ad308-da10-4f12-8271-6ad2b0f3ce11",
   "metadata": {},
   "outputs": [
    {
     "data": {
      "text/plain": [
       "'32'"
      ]
     },
     "execution_count": 76,
     "metadata": {},
     "output_type": "execute_result"
    }
   ],
   "source": [
    "age"
   ]
  },
  {
   "cell_type": "code",
   "execution_count": 78,
   "id": "49d47567-73c8-4b70-a0fb-ad4a3722b82a",
   "metadata": {},
   "outputs": [
    {
     "name": "stdin",
     "output_type": "stream",
     "text": [
      "enter your age 32\n"
     ]
    }
   ],
   "source": [
    "age = int (input('enter your age'))"
   ]
  },
  {
   "cell_type": "code",
   "execution_count": 80,
   "id": "cac21bc1-566c-47a8-a807-43f36ee5cc67",
   "metadata": {},
   "outputs": [
    {
     "data": {
      "text/plain": [
       "32"
      ]
     },
     "execution_count": 80,
     "metadata": {},
     "output_type": "execute_result"
    }
   ],
   "source": [
    "age"
   ]
  },
  {
   "cell_type": "code",
   "execution_count": 82,
   "id": "5b9c5dbe-0d20-4621-abe1-0446a0c9d3c6",
   "metadata": {},
   "outputs": [
    {
     "data": {
      "text/plain": [
       "int"
      ]
     },
     "execution_count": 82,
     "metadata": {},
     "output_type": "execute_result"
    }
   ],
   "source": [
    "type (age)"
   ]
  },
  {
   "cell_type": "code",
   "execution_count": 90,
   "id": "73dc3091-6663-4d2a-85f5-d64bd774e298",
   "metadata": {},
   "outputs": [
    {
     "name": "stdin",
     "output_type": "stream",
     "text": [
      "enter your height in cm 182\n"
     ]
    }
   ],
   "source": [
    "height = float (input('enter your height in cm'))"
   ]
  },
  {
   "cell_type": "code",
   "execution_count": 92,
   "id": "c8e5b004-f9ab-46b2-a15f-9fdcba7d9ab2",
   "metadata": {},
   "outputs": [
    {
     "data": {
      "text/plain": [
       "182.0"
      ]
     },
     "execution_count": 92,
     "metadata": {},
     "output_type": "execute_result"
    }
   ],
   "source": [
    "height"
   ]
  },
  {
   "cell_type": "code",
   "execution_count": 88,
   "id": "7dd863c5-5003-4c26-9c69-d7e5c63fcb68",
   "metadata": {},
   "outputs": [
    {
     "data": {
      "text/plain": [
       "float"
      ]
     },
     "execution_count": 88,
     "metadata": {},
     "output_type": "execute_result"
    }
   ],
   "source": [
    "type (height)"
   ]
  },
  {
   "cell_type": "code",
   "execution_count": 94,
   "id": "5dca3e8c-768b-4b96-9c05-f28661c4ea72",
   "metadata": {},
   "outputs": [
    {
     "name": "stdin",
     "output_type": "stream",
     "text": [
      " 12.3\n"
     ]
    },
    {
     "ename": "ValueError",
     "evalue": "invalid literal for int() with base 10: '12.3'",
     "output_type": "error",
     "traceback": [
      "\u001b[1;31m---------------------------------------------------------------------------\u001b[0m",
      "\u001b[1;31mValueError\u001b[0m                                Traceback (most recent call last)",
      "Cell \u001b[1;32mIn[94], line 1\u001b[0m\n\u001b[1;32m----> 1\u001b[0m x \u001b[38;5;241m=\u001b[39m \u001b[38;5;28mint\u001b[39m(\u001b[38;5;28minput\u001b[39m())\n",
      "\u001b[1;31mValueError\u001b[0m: invalid literal for int() with base 10: '12.3'"
     ]
    }
   ],
   "source": [
    "x = int(input())"
   ]
  },
  {
   "cell_type": "code",
   "execution_count": 96,
   "id": "4e3292f8-8a4b-4d5f-a8db-e6e541b93e50",
   "metadata": {},
   "outputs": [
    {
     "name": "stdin",
     "output_type": "stream",
     "text": [
      "enter age 32\n"
     ]
    },
    {
     "name": "stdout",
     "output_type": "stream",
     "text": [
      "Your age is:  32\n"
     ]
    }
   ],
   "source": [
    "age = int(input('enter age'))\n",
    "print('Your age is: ', age)"
   ]
  },
  {
   "cell_type": "code",
   "execution_count": 98,
   "id": "2f90cdfa-fa33-479e-9656-dc851e1ce1bd",
   "metadata": {},
   "outputs": [
    {
     "data": {
      "text/plain": [
       "'Swapnil'"
      ]
     },
     "execution_count": 98,
     "metadata": {},
     "output_type": "execute_result"
    }
   ],
   "source": [
    "first_name"
   ]
  },
  {
   "cell_type": "code",
   "execution_count": 100,
   "id": "909db86b-a079-4f4b-a1e1-28c37cb4e51d",
   "metadata": {},
   "outputs": [
    {
     "data": {
      "text/plain": [
       "('Your first name is', 'Swapnil')"
      ]
     },
     "execution_count": 100,
     "metadata": {},
     "output_type": "execute_result"
    }
   ],
   "source": [
    "('Your first name is', first_name)"
   ]
  },
  {
   "cell_type": "code",
   "execution_count": 102,
   "id": "02610055-6127-4fec-9fce-50ed8c7306c0",
   "metadata": {},
   "outputs": [
    {
     "name": "stdout",
     "output_type": "stream",
     "text": [
      "Your first name is Swapnil\n"
     ]
    }
   ],
   "source": [
    "print('Your first name is', first_name)"
   ]
  },
  {
   "cell_type": "code",
   "execution_count": null,
   "id": "4236f608-4f19-41e0-8cc3-175cb36ffb69",
   "metadata": {},
   "outputs": [],
   "source": []
  }
 ],
 "metadata": {
  "kernelspec": {
   "display_name": "Python [conda env:base] *",
   "language": "python",
   "name": "conda-base-py"
  },
  "language_info": {
   "codemirror_mode": {
    "name": "ipython",
    "version": 3
   },
   "file_extension": ".py",
   "mimetype": "text/x-python",
   "name": "python",
   "nbconvert_exporter": "python",
   "pygments_lexer": "ipython3",
   "version": "3.12.7"
  }
 },
 "nbformat": 4,
 "nbformat_minor": 5
}
